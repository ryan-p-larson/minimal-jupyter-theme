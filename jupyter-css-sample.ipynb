{
 "cells": [
  {
   "cell_type": "markdown",
   "metadata": {},
   "source": [
    "# Minimal Jupyter Theme\n",
    "\n",
    "<sub>Example Notebook</sub>\n",
    "\n",
    "--- "
   ]
  },
  {
   "cell_type": "markdown",
   "metadata": {},
   "source": [
    "## Table of Contents\n",
    "\n",
    "1. [Code](#1.-Code)\n",
    "2. [Border Removal & Selection Shading](#2.-Border-Removal-&-Selection-Shading)\n",
    "3. [Prompt Removal & Edit Indicator](#3.-Prompt-Removal-&-Edit-Indicator)\n",
    "4. [Cosmetic Changes](#4.-Cosmetic-Changes)\n",
    "5. [Colorscheme](#5.-Colorscheme)\n",
    "6. [Markdown Example](#6.-Markdown-Example)"
   ]
  },
  {
   "cell_type": "markdown",
   "metadata": {},
   "source": [
    "#### 1. Code"
   ]
  },
  {
   "cell_type": "code",
   "execution_count": 1,
   "metadata": {
    "collapsed": true
   },
   "outputs": [],
   "source": [
    "# Sample notebook uses the following packages\n",
    "from matplotlib import pyplot as plt\n",
    "import matplotlib as mpl\n",
    "\n",
    "%matplotlib inline\n",
    "mpl.rcParams['figure.figsize'] = (14,1)\n",
    "\n",
    "from sklearn.datasets import load_iris\n",
    "\n",
    "import pandas as pd\n",
    "import numpy as np\n",
    "\n",
    "import cv2"
   ]
  },
  {
   "cell_type": "code",
   "execution_count": 2,
   "metadata": {
    "collapsed": true
   },
   "outputs": [],
   "source": [
    "# Example Class\n",
    "class node(object):\n",
    "    def __init__(self, data, nnext=None):\n",
    "        self.data = data\n",
    "        self.next = nnext\n",
    "        \n",
    "    def set_next(self, nnext):\n",
    "        self.next = nnext\n",
    "        \n",
    "    def set_data(self, data):\n",
    "        self.data = data\n",
    "        \n",
    "    def get_next(self):\n",
    "        return self.next\n",
    "    \n",
    "    def get_data(self):\n",
    "        return self.data\n",
    "    \n",
    "def reverse(head):\n",
    "    \"\"\"Example function to reverse a linked list.\"\"\"\n",
    "    if (head == None) or (head.next == None):\n",
    "        return head\n",
    "    \n",
    "    prev = None\n",
    "    node = head\n",
    "    \n",
    "    while node:\n",
    "        temp = node.next\n",
    "        node.set_next(prev)\n",
    "        prev = node\n",
    "        node = temp\n",
    "        \n",
    "    return prev"
   ]
  },
  {
   "cell_type": "code",
   "execution_count": 3,
   "metadata": {},
   "outputs": [
    {
     "ename": "ModuleNotFoundError",
     "evalue": "No module named 'thislibrarydoesnotexist'",
     "output_type": "error",
     "traceback": [
      "\u001b[0;31m---------------------------------------------------------------------------\u001b[0m",
      "\u001b[0;31mModuleNotFoundError\u001b[0m                       Traceback (most recent call last)",
      "\u001b[0;32m<ipython-input-3-9d5707a71103>\u001b[0m in \u001b[0;36m<module>\u001b[0;34m()\u001b[0m\n\u001b[1;32m      1\u001b[0m \u001b[0;31m# Show errors\u001b[0m\u001b[0;34m\u001b[0m\u001b[0;34m\u001b[0m\u001b[0m\n\u001b[0;32m----> 2\u001b[0;31m \u001b[0;32mimport\u001b[0m \u001b[0mthislibrarydoesnotexist\u001b[0m\u001b[0;34m\u001b[0m\u001b[0m\n\u001b[0m",
      "\u001b[0;31mModuleNotFoundError\u001b[0m: No module named 'thislibrarydoesnotexist'"
     ]
    }
   ],
   "source": [
    "# Show errors\n",
    "import thislibrarydoesnotexist"
   ]
  },
  {
   "cell_type": "markdown",
   "metadata": {
    "scrolled": false
   },
   "source": [
    "#### 2. Border Removal & Selection Shading\n",
    "\n",
    "A priority for this theme is to reduce visual clutter. I personally have thought that the green/blue cell borders are distracting. This theme removes all of the cell borders and instead opts for using darker/lighter shading to indicate the cell you have selected.\n",
    "\n",
    "*Borders before*\n",
    "![Selected and focused cells - old](imgs/borders-compare.png)\n",
    "\n",
    "*Borders after*\n",
    "![unselected, selected, and focused cells - new](imgs/borders - new.png)"
   ]
  },
  {
   "cell_type": "markdown",
   "metadata": {},
   "source": [
    "#### 3. Prompt Removal & Edit Indicator\n",
    "\n",
    "But how do we know the cell we've selected is in `Edit` or `Command` mode? Have no fear, reader! \n",
    "\n",
    "Another major pain point in Jupyter for me are the cell prompts. I have made a number of changes to both reduce clutter while retaining visual importance. They are:\n",
    "\n",
    "- Prompt\n",
    "    * Output Prompt numbering removed\n",
    "    * Input Prompt number formatting + Kernel startup\n",
    "    * Prompt hover emphasis\n",
    "- Edit Mode Indicator is no longer green/blue border, instead is grey/black *left* border.\n",
    "\n",
    "I removed the output prompt numbers, as most of the time I don't need to differentiate between `In [ ]` and `Out` cells. The input prompt is modified to only display the cell execution number. This is done in `custom/custom.js` by assigning a custom *Input Cell Format Function*. The `custom.js` file also formats the Input cells on Kernel Ready so we don't have to execute a cell to see the change.\n",
    "\n",
    "*New Cells*\n",
    "![Cells in various selection/focusing modes](imgs/cell - new.png)"
   ]
  },
  {
   "cell_type": "markdown",
   "metadata": {
    "collapsed": true
   },
   "source": [
    "#### 4. Cosmetic Changes\n",
    "\n",
    "- Notebook, menu width: Now `100%` of the browser\n",
    "\n",
    "*Menu Comparison*\n",
    "![Old and new menus](imgs/menu-compare.png)\n",
    "\n",
    "\n",
    "- Centered dataframes, images.\n",
    "\n",
    "*Old Dataframe*\n",
    "![Old Dataframe](imgs/dataframe - old.png)"
   ]
  },
  {
   "cell_type": "code",
   "execution_count": 4,
   "metadata": {},
   "outputs": [
    {
     "data": {
      "text/html": [
       "<div>\n",
       "<style scoped>\n",
       "    .dataframe tbody tr th:only-of-type {\n",
       "        vertical-align: middle;\n",
       "    }\n",
       "\n",
       "    .dataframe tbody tr th {\n",
       "        vertical-align: top;\n",
       "    }\n",
       "\n",
       "    .dataframe thead th {\n",
       "        text-align: right;\n",
       "    }\n",
       "</style>\n",
       "<table border=\"1\" class=\"dataframe\">\n",
       "  <thead>\n",
       "    <tr style=\"text-align: right;\">\n",
       "      <th></th>\n",
       "      <th>sepal length (cm)</th>\n",
       "      <th>sepal width (cm)</th>\n",
       "      <th>petal length (cm)</th>\n",
       "      <th>petal width (cm)</th>\n",
       "      <th>target</th>\n",
       "    </tr>\n",
       "  </thead>\n",
       "  <tbody>\n",
       "    <tr>\n",
       "      <th>0</th>\n",
       "      <td>5.1</td>\n",
       "      <td>3.5</td>\n",
       "      <td>1.4</td>\n",
       "      <td>0.2</td>\n",
       "      <td>0.0</td>\n",
       "    </tr>\n",
       "    <tr>\n",
       "      <th>1</th>\n",
       "      <td>4.9</td>\n",
       "      <td>3.0</td>\n",
       "      <td>1.4</td>\n",
       "      <td>0.2</td>\n",
       "      <td>0.0</td>\n",
       "    </tr>\n",
       "    <tr>\n",
       "      <th>2</th>\n",
       "      <td>4.7</td>\n",
       "      <td>3.2</td>\n",
       "      <td>1.3</td>\n",
       "      <td>0.2</td>\n",
       "      <td>0.0</td>\n",
       "    </tr>\n",
       "    <tr>\n",
       "      <th>3</th>\n",
       "      <td>4.6</td>\n",
       "      <td>3.1</td>\n",
       "      <td>1.5</td>\n",
       "      <td>0.2</td>\n",
       "      <td>0.0</td>\n",
       "    </tr>\n",
       "    <tr>\n",
       "      <th>4</th>\n",
       "      <td>5.0</td>\n",
       "      <td>3.6</td>\n",
       "      <td>1.4</td>\n",
       "      <td>0.2</td>\n",
       "      <td>0.0</td>\n",
       "    </tr>\n",
       "  </tbody>\n",
       "</table>\n",
       "</div>"
      ],
      "text/plain": [
       "   sepal length (cm)  sepal width (cm)  petal length (cm)  petal width (cm)  \\\n",
       "0                5.1               3.5                1.4               0.2   \n",
       "1                4.9               3.0                1.4               0.2   \n",
       "2                4.7               3.2                1.3               0.2   \n",
       "3                4.6               3.1                1.5               0.2   \n",
       "4                5.0               3.6                1.4               0.2   \n",
       "\n",
       "   target  \n",
       "0     0.0  \n",
       "1     0.0  \n",
       "2     0.0  \n",
       "3     0.0  \n",
       "4     0.0  "
      ]
     },
     "execution_count": 4,
     "metadata": {},
     "output_type": "execute_result"
    }
   ],
   "source": [
    "# Newly centered Dataframes example\n",
    "iris = load_iris()\n",
    "iris_df = pd.DataFrame(data= np.c_[iris['data'], iris['target']],\n",
    "                     columns= iris['feature_names'] + ['target'])\n",
    "\n",
    "iris_df.head()"
   ]
  },
  {
   "cell_type": "markdown",
   "metadata": {},
   "source": [
    "`# Centered image example`\n",
    "\n",
    "![Jupyter Logo](https://gitlab.eurecom.fr/zoe-apps/zapp-jupyter/avatar)"
   ]
  },
  {
   "cell_type": "markdown",
   "metadata": {},
   "source": [
    "#### 5. Colorscheme"
   ]
  },
  {
   "cell_type": "code",
   "execution_count": 5,
   "metadata": {
    "collapsed": true
   },
   "outputs": [],
   "source": [
    "# Show colorscheme\n",
    "greyscale = {\n",
    "    'base-00': [45, 45, 45],    #2d2d2d\n",
    "    'base-01': [57, 57, 57],    #393939\n",
    "    'base-02': [81, 81, 81],    #515151\n",
    "    'base-03': [116, 115, 105], #747369\n",
    "    'base-04': [160, 159, 147], #a09f93\n",
    "    'base-05': [211, 208, 200], #d3d0c8\n",
    "    'base-06': [232, 230, 223], #e8e6df\n",
    "    'base-07': [242, 240, 236]  #f2f0ec\n",
    "}\n",
    "\n",
    "colors = {\n",
    "    'red': [242, 119, 122],    #f2777a\n",
    "    'orange': [249, 145, 87],  #f99157\n",
    "    'yellow': [255, 204, 102], #ffcc66\n",
    "    'green': [153, 204, 153],  #99cc99\n",
    "    'teal': [102, 204, 204],   #66cccc\n",
    "    'blue': [102, 153, 204],   #6699cc\n",
    "    'purple': [204, 153, 204], #cc99cc\n",
    "    'brown': [210, 123, 83]    #d27b53\n",
    "}"
   ]
  },
  {
   "cell_type": "code",
   "execution_count": 6,
   "metadata": {},
   "outputs": [
    {
     "data": {
      "image/png": "[encoded data removed]",
      "text/plain": [
       "<matplotlib.figure.Figure at 0x7f978e93dd30>"
      ]
     },
     "metadata": {},
     "output_type": "display_data"
    }
   ],
   "source": [
    "# Create a greyscale colorswatch\n",
    "img_grey = np.full((1024,1024,3), 255, np.uint8)\n",
    "fig_grey = plt.figure()\n",
    "\n",
    "for i, (color, rgb) in enumerate(greyscale.items()):\n",
    "    axis = fig_grey.add_subplot(1, 9, i+1)\n",
    "    cv2.circle(img_grey, (512, 512), 512, (rgb[0], rgb[1], rgb[2]), -1)\n",
    "    plt.title(color, y=-0.50)\n",
    "    plt.axis('off')\n",
    "    plt.imshow(img_grey);"
   ]
  },
  {
   "cell_type": "code",
   "execution_count": 7,
   "metadata": {},
   "outputs": [
    {
     "data": {
      "image/png": "[encoded data removed]",
      "text/plain": [
       "<matplotlib.figure.Figure at 0x7f978e93d940>"
      ]
     },
     "metadata": {},
     "output_type": "display_data"
    }
   ],
   "source": [
    "img_color = np.full((1024,1024,3), 255, np.uint8)\n",
    "fig_color = plt.figure()\n",
    "\n",
    "for i, (color, rgb) in enumerate(colors.items()):\n",
    "    axis = fig_color.add_subplot(1, 9, i+1)\n",
    "    cv2.circle(img_color, (512, 512), 512, (rgb[0], rgb[1], rgb[2]), -1)\n",
    "    plt.title(color, y=-0.50)\n",
    "    plt.axis('off')\n",
    "    plt.imshow(img_color);  "
   ]
  },
  {
   "cell_type": "markdown",
   "metadata": {},
   "source": [
    "#### 6. Markdown Example\n",
    "\n",
    "**Paragraphs:** 'Lorem Ipsum is simply dummy text of the printing and typesetting industry. Lorem Ipsum has been the industry's standard dummy text ever since the 1500s, when an unknown printer took a galley of type and scrambled it to make a type specimen book. It has survived not only five centuries, but also the leap into electronic typesetting, remaining essentially unchanged.'\n",
    "\n",
    "**URLs:** Have their underline removed unless focused or selected, [like this](#).\n",
    "\n",
    "**Block Quotes:**\n",
    "> Have had their borders darkened\n",
    "\n",
    "**Horizontal Ruler:** Have been made darker so stand out.\n",
    "\n",
    "---"
   ]
  },
  {
   "cell_type": "markdown",
   "metadata": {},
   "source": [
    "\n",
    "\n",
    "` `\n",
    "\n",
    "\n",
    "#### Cells "
   ]
  },
  {
   "cell_type": "markdown",
   "metadata": {},
   "source": [
    "**Selected, Rendered `Markdown` cell.**"
   ]
  },
  {
   "cell_type": "markdown",
   "metadata": {},
   "source": [
    "*Unselected*, **Rendered** `Markdown` cell."
   ]
  },
  {
   "cell_type": "markdown",
   "metadata": {},
   "source": [
    "> Unselected, *unrendered* Markdown cell"
   ]
  },
  {
   "cell_type": "code",
   "execution_count": 8,
   "metadata": {},
   "outputs": [
    {
     "name": "stdout",
     "output_type": "stream",
     "text": [
      "This is what a regular cell looks like.\n",
      "\n"
     ]
    }
   ],
   "source": [
    "# Unselected, rendered code cell\n",
    "# WITH hover prompt\n",
    "print ('This is what a regular cell looks like.\\n')"
   ]
  },
  {
   "cell_type": "code",
   "execution_count": 9,
   "metadata": {},
   "outputs": [
    {
     "name": "stdout",
     "output_type": "stream",
     "text": [
      "[0, 1, 2, 3, 4, 5, 6, 7, 8, 9]\n"
     ]
    }
   ],
   "source": [
    "# Cells prompts can be hovered over for easy reading\n",
    "print (list(range(10)))"
   ]
  },
  {
   "cell_type": "code",
   "execution_count": 10,
   "metadata": {
    "collapsed": true
   },
   "outputs": [],
   "source": [
    "# Unrendered code cells don't have numbers."
   ]
  },
  {
   "cell_type": "code",
   "execution_count": 11,
   "metadata": {
    "collapsed": true
   },
   "outputs": [],
   "source": [
    "# Selected, rendered cell\n",
    "\n",
    "def gcd(a, b):\n",
    "    return gcd_helper(a, b) if (a > b) else gcd_helper(b, a)\n",
    "        \n",
    "def gcd_helper(a, b):\n",
    "    while b:\n",
    "        a, b = b, a%b\n",
    "    return a"
   ]
  }
 ],
 "metadata": {
  "kernelspec": {
   "display_name": "Python 3",
   "language": "python",
   "name": "python3"
  },
  "language_info": {
   "codemirror_mode": {
    "name": "ipython",
    "version": 3
   },
   "file_extension": ".py",
   "mimetype": "text/x-python",
   "name": "python",
   "nbconvert_exporter": "python",
   "pygments_lexer": "ipython3",
   "version": "3.6.4"
  }
 },
 "nbformat": 4,
 "nbformat_minor": 2
}
